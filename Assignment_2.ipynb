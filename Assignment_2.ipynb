{
  "nbformat": 4,
  "nbformat_minor": 0,
  "metadata": {
    "colab": {
      "provenance": []
    },
    "kernelspec": {
      "name": "python3",
      "display_name": "Python 3"
    },
    "language_info": {
      "name": "python"
    }
  },
  "cells": [
    {
      "cell_type": "markdown",
      "source": [
        "# **1. Discuss string slicing and provide examples.**"
      ],
      "metadata": {
        "id": "yad0w0UYxMWT"
      }
    },
    {
      "cell_type": "markdown",
      "source": [
        "String slicing is a powerful feature in Python that allows you to extract substrings from a string using a specified range of indices. The syntax for slicing is: substring = original_string[start:stop:step]"
      ],
      "metadata": {
        "id": "JzEd0US8xYCi"
      }
    },
    {
      "cell_type": "code",
      "source": [
        "#Let's look at some examples to illustrate how string slicing works\n",
        "\n",
        "text = \"Hello, world!\""
      ],
      "metadata": {
        "id": "I9nNUKWhygzp"
      },
      "execution_count": 3,
      "outputs": []
    },
    {
      "cell_type": "code",
      "source": [
        "substring = text[0:5]  # Extracts characters from index 0 to 4\n",
        "print(substring)\n"
      ],
      "metadata": {
        "colab": {
          "base_uri": "https://localhost:8080/",
          "height": 0
        },
        "id": "v1I1AJq00Atd",
        "outputId": "aacc1357-e440-4e77-9980-cd17b91a0998"
      },
      "execution_count": 4,
      "outputs": [
        {
          "output_type": "stream",
          "name": "stdout",
          "text": [
            "Hello\n"
          ]
        }
      ]
    },
    {
      "cell_type": "code",
      "source": [
        "#Omitting Start and Stop\n",
        "\n",
        "substring = text[:5]  # Equivalent to text[0:5]\n",
        "print(substring)\n",
        "\n",
        "substring = text[7:]  # From index 7 to the end of the string\n",
        "print(substring)\n"
      ],
      "metadata": {
        "colab": {
          "base_uri": "https://localhost:8080/",
          "height": 0
        },
        "id": "fmyr3D4cxWDJ",
        "outputId": "4c03e5ce-2010-47d3-8913-08410540e63d"
      },
      "execution_count": 5,
      "outputs": [
        {
          "output_type": "stream",
          "name": "stdout",
          "text": [
            "Hello\n",
            "world!\n"
          ]
        }
      ]
    },
    {
      "cell_type": "markdown",
      "source": [
        "## **2. Explain the key features of lists in Python.**"
      ],
      "metadata": {
        "id": "TSNzlqD50j6d"
      }
    },
    {
      "cell_type": "markdown",
      "source": [
        "Lists in Python are one of the most versatile and commonly used data structures. Here are some key features:\n",
        "\n",
        "1. Ordered\n",
        "Lists maintain the order of elements. This means that the items have a defined sequence, and this order will not change unless explicitly modified.\n",
        "\n",
        "2. Mutable\n",
        "Lists are mutable, meaning you can change their content after creation. You can add, remove, or modify elements.\n",
        "\n",
        "3. Allow Duplicates\n",
        "Lists can contain duplicate elements. This is useful when you need to store multiple instances of the same value.\n",
        "\n",
        "4. Dynamic Size\n",
        "Lists can grow and shrink as needed. You don’t need to declare the size of a list when you create it.\n",
        "\n",
        "5. Heterogeneous Elements\n",
        "Lists can store elements of different data types. For example, you can have integers, strings, and even other lists within a single list.\n",
        "\n",
        "6. Indexed Access\n",
        "You can access elements in a list using their index. The first element has an index of 0, the second element has an index of 1, and so on."
      ],
      "metadata": {
        "id": "5mwWRYD11T-M"
      }
    },
    {
      "cell_type": "markdown",
      "source": [
        "## **3. Describe how to access, modify, and delete elements in a list with examples.**\n"
      ],
      "metadata": {
        "id": "HnYMRy4L1xI3"
      }
    },
    {
      "cell_type": "code",
      "source": [
        "#Accessing Elements:We can access list elements using their index. Python uses zero-based indexing, so the first element has an index of 0.\n",
        "\n",
        "my_list = ['apple', 'banana', 'cherry']\n",
        "print(my_list[1])\n"
      ],
      "metadata": {
        "colab": {
          "base_uri": "https://localhost:8080/",
          "height": 0
        },
        "id": "ZkoooLBA1Vui",
        "outputId": "0db66f1d-4a63-4be7-a462-92bfe44c131f"
      },
      "execution_count": 6,
      "outputs": [
        {
          "output_type": "stream",
          "name": "stdout",
          "text": [
            "banana\n"
          ]
        }
      ]
    },
    {
      "cell_type": "code",
      "source": [
        "my_list = ['apple', 'banana', 'cherry']\n",
        "print(my_list[-1])\n"
      ],
      "metadata": {
        "colab": {
          "base_uri": "https://localhost:8080/",
          "height": 0
        },
        "id": "aNLR2fax2u8N",
        "outputId": "efbdc07c-14c0-4c5b-a493-f1e2a67313d9"
      },
      "execution_count": 9,
      "outputs": [
        {
          "output_type": "stream",
          "name": "stdout",
          "text": [
            "cherry\n"
          ]
        }
      ]
    },
    {
      "cell_type": "code",
      "source": [
        "#Slicing\n",
        "\n",
        "my_list = [10, 20, 30, 40, 50]\n",
        "print(my_list[1:4])\n"
      ],
      "metadata": {
        "colab": {
          "base_uri": "https://localhost:8080/",
          "height": 0
        },
        "id": "3uk3Xc4r206S",
        "outputId": "45eb309f-2ef6-405e-f22e-026fd3aae4d9"
      },
      "execution_count": 10,
      "outputs": [
        {
          "output_type": "stream",
          "name": "stdout",
          "text": [
            "[20, 30, 40]\n"
          ]
        }
      ]
    },
    {
      "cell_type": "code",
      "source": [
        "#Modifying Elements:We can change elements in a list by accessing them via their index and then assigning a new value.\n",
        "my_list = ['apple', 'banana', 'cherry']\n",
        "my_list[1] = 'blueberry'\n",
        "print(my_list)\n"
      ],
      "metadata": {
        "colab": {
          "base_uri": "https://localhost:8080/",
          "height": 0
        },
        "id": "KeRbV4CP2-u6",
        "outputId": "43c77955-3775-4593-8ef9-7db6d2f1135e"
      },
      "execution_count": 11,
      "outputs": [
        {
          "output_type": "stream",
          "name": "stdout",
          "text": [
            "['apple', 'blueberry', 'cherry']\n"
          ]
        }
      ]
    },
    {
      "cell_type": "code",
      "source": [
        "#Using Slicing for Modification\n",
        "my_list = [1, 2, 3, 4, 5]\n",
        "my_list[1:3] = [20, 30]  # Replace elements at index 1 and 2\n",
        "print(my_list)\n"
      ],
      "metadata": {
        "colab": {
          "base_uri": "https://localhost:8080/",
          "height": 0
        },
        "id": "gr5blrjN3gZU",
        "outputId": "e44f5d20-fffc-4a13-ac95-9bdbb53b94e3"
      },
      "execution_count": 12,
      "outputs": [
        {
          "output_type": "stream",
          "name": "stdout",
          "text": [
            "[1, 20, 30, 4, 5]\n"
          ]
        }
      ]
    },
    {
      "cell_type": "code",
      "source": [
        "#Deleting Elements\n",
        "#Using del Statement: The del statement can remove an element by its index or delete the entire list.\n",
        "my_list = ['apple', 'banana', 'cherry']\n",
        "del my_list[1]  # Removes the element at index 1\n",
        "print(my_list)\n",
        "\n",
        "del my_list  # Deletes the entire list\n"
      ],
      "metadata": {
        "colab": {
          "base_uri": "https://localhost:8080/",
          "height": 0
        },
        "id": "8h5WL4Dd3uUi",
        "outputId": "de5f4134-f6ef-42a0-b0fa-0b59ce06f5ce"
      },
      "execution_count": 13,
      "outputs": [
        {
          "output_type": "stream",
          "name": "stdout",
          "text": [
            "['apple', 'cherry']\n"
          ]
        }
      ]
    },
    {
      "cell_type": "code",
      "source": [
        "#Using pop() Method: The pop() method removes and returns an element at a specified index. If no index is specified, it removes and returns the last element.\n",
        "my_list = [1, 2, 3, 4, 5]\n",
        "removed_element = my_list.pop(2)  # Removes and returns the element at index 2\n",
        "print(removed_element)\n",
        "print(my_list)"
      ],
      "metadata": {
        "colab": {
          "base_uri": "https://localhost:8080/",
          "height": 0
        },
        "id": "p92ffiTD4TDK",
        "outputId": "2e9beb93-f2e4-44bb-f317-cbf845cd6e56"
      },
      "execution_count": 15,
      "outputs": [
        {
          "output_type": "stream",
          "name": "stdout",
          "text": [
            "3\n",
            "[1, 2, 4, 5]\n"
          ]
        }
      ]
    },
    {
      "cell_type": "markdown",
      "source": [
        "# **4. Compare and contrast tuples and lists with examples.**"
      ],
      "metadata": {
        "id": "mlkboLdN4zVa"
      }
    },
    {
      "cell_type": "markdown",
      "source": [
        "***List***\n",
        "\n",
        "\n",
        "1.   Lists are mutable\n",
        "2.   Lists use [  ]\n",
        "3.   Lists are used for collections that need to be modified\n",
        "4. List are little slower then tuples and required more memory then tuples.\n",
        "5. Lists have many methods for modification\n",
        "\n",
        "\n",
        "***Tuples***\n",
        "1. tuples are immutable.\n",
        "2.  tuples use (  )\n",
        "3.  tuples are used for fixed collections or records.\n",
        "4. Tuples are generally faster and require less memory than lists.\n",
        "5.  tuples have limited methods.\n",
        "\n",
        "\n"
      ],
      "metadata": {
        "id": "ogk9EFUb5zeY"
      }
    },
    {
      "cell_type": "code",
      "source": [
        "my_list = [1, 2, 3, 4]"
      ],
      "metadata": {
        "id": "Yj6dEkgU4m2p"
      },
      "execution_count": 18,
      "outputs": []
    },
    {
      "cell_type": "code",
      "source": [
        "my_list = [1, 2, 3]\n",
        "my_list[1] = 20  # Modify element\n",
        "my_list.append(4)  # Add element\n",
        "print(my_list)"
      ],
      "metadata": {
        "colab": {
          "base_uri": "https://localhost:8080/"
        },
        "id": "qgPtgxtb74Zt",
        "outputId": "d07d4618-6c9f-4057-9f9d-c57cd41af7ce"
      },
      "execution_count": 19,
      "outputs": [
        {
          "output_type": "stream",
          "name": "stdout",
          "text": [
            "[1, 20, 3, 4]\n"
          ]
        }
      ]
    },
    {
      "cell_type": "code",
      "source": [
        "my_tuple = (1, 2, 3, 4)"
      ],
      "metadata": {
        "id": "vKaxorsp7-qj"
      },
      "execution_count": 20,
      "outputs": []
    },
    {
      "cell_type": "code",
      "source": [
        "my_tuple = (1, 2, 3)\n",
        "# The following operations will raise errors:\n",
        "# my_tuple[1] = 20  # TypeError: 'tuple' object does not support item assignment\n",
        "# my_tuple.append(4)  # AttributeError: 'tuple' object has no attribute 'append'\n"
      ],
      "metadata": {
        "id": "gS-4T3bH8Ewb"
      },
      "execution_count": 21,
      "outputs": []
    },
    {
      "cell_type": "markdown",
      "source": [
        "# **5. Describe the key features of sets and provide examples of their use.**\n"
      ],
      "metadata": {
        "id": "91N7QE5Q8PWL"
      }
    },
    {
      "cell_type": "markdown",
      "source": [
        "Sets in Python are a built-in data structure that represents a collection of unique, unordered elements. They are particularly useful when you need to store items without duplicates and perform mathematical set operations. Here are the key features of sets, along with examples of their use:"
      ],
      "metadata": {
        "id": "Z7PFwZG49Ond"
      }
    },
    {
      "cell_type": "code",
      "source": [
        "#Unordered Collection\n",
        "#Sets do not maintain any order of the elements. The order in which elements are added is not necessarily the order in which they are stored or iterated over.\n",
        "my_set = {3, 1, 2}\n",
        "print(my_set)\n"
      ],
      "metadata": {
        "colab": {
          "base_uri": "https://localhost:8080/"
        },
        "id": "FRMiEHn98MHD",
        "outputId": "38fe4689-fafa-4179-8445-b760d4682cc0"
      },
      "execution_count": 22,
      "outputs": [
        {
          "output_type": "stream",
          "name": "stdout",
          "text": [
            "{1, 2, 3}\n"
          ]
        }
      ]
    },
    {
      "cell_type": "code",
      "source": [
        "#Unique Elements\n",
        "#Sets automatically eliminate duplicate values. Each element in a set is unique.\n",
        "my_set = {1, 2, 2, 3, 3, 3}\n",
        "print(my_set)"
      ],
      "metadata": {
        "colab": {
          "base_uri": "https://localhost:8080/"
        },
        "id": "CCfeao1g9gqU",
        "outputId": "2d09c552-50e7-4225-ec40-14cf3f834019"
      },
      "execution_count": 23,
      "outputs": [
        {
          "output_type": "stream",
          "name": "stdout",
          "text": [
            "{1, 2, 3}\n"
          ]
        }
      ]
    },
    {
      "cell_type": "code",
      "source": [
        "#Mutable\n",
        "#Sets are mutable, meaning we can add or remove elements after the set is created\n",
        "my_set = {1, 2, 3}\n",
        "my_set.add(4)\n",
        "my_set.remove(2)\n",
        "print(my_set)"
      ],
      "metadata": {
        "colab": {
          "base_uri": "https://localhost:8080/"
        },
        "id": "lHSK0J_X9xXb",
        "outputId": "b6f47c92-3236-4aec-9689-98b4c12eb069"
      },
      "execution_count": 24,
      "outputs": [
        {
          "output_type": "stream",
          "name": "stdout",
          "text": [
            "{1, 3, 4}\n"
          ]
        }
      ]
    },
    {
      "cell_type": "code",
      "source": [
        "#No Indexing\n",
        "#Unlike lists or tuples, we cannot access elements in a set by index, since sets are unordered.\n",
        "my_set = {1, 2, 3}\n",
        "# print(my_set[0])  # TypeError: 'set' object is not subscriptable"
      ],
      "metadata": {
        "id": "PYkeoe7x-AUM"
      },
      "execution_count": 27,
      "outputs": []
    },
    {
      "cell_type": "code",
      "source": [
        "#Set Operations\n",
        "#Sets support mathematical set operations such as union, intersection, difference, and symmetric difference.\n",
        "set1 = {1, 2, 3}\n",
        "set2 = {3, 4, 5}\n",
        "\n",
        "# Union\n",
        "print(set1 | set2)\n",
        "\n",
        "# Intersection\n",
        "print(set1 & set2)\n",
        "\n",
        "# Difference\n",
        "print(set1 - set2)\n",
        "\n",
        "# Symmetric Difference\n",
        "print(set1 ^ set2)\n"
      ],
      "metadata": {
        "colab": {
          "base_uri": "https://localhost:8080/"
        },
        "id": "CFsLtvJs-TA7",
        "outputId": "4b870038-b6c4-4853-81b4-cd0666f753f3"
      },
      "execution_count": 28,
      "outputs": [
        {
          "output_type": "stream",
          "name": "stdout",
          "text": [
            "{1, 2, 3, 4, 5}\n",
            "{3}\n",
            "{1, 2}\n",
            "{1, 2, 4, 5}\n"
          ]
        }
      ]
    },
    {
      "cell_type": "markdown",
      "source": [
        "# **6.  Describe how to add, modify, and delete items in a dictionary with examples.**\n"
      ],
      "metadata": {
        "id": "VBTuclh_-xY3"
      }
    },
    {
      "cell_type": "code",
      "source": [
        "#Adding Items\n",
        "#You can add new key-value pairs to a dictionary by simply assigning a value to a new key. If the key already exists, its value will be updated.\n",
        "\n",
        "# Initial dictionary\n",
        "my_dict = {'apple': 1, 'banana': 2}\n",
        "\n",
        "# Adding a new item\n",
        "my_dict['cherry'] = 3\n",
        "\n",
        "print(my_dict)\n",
        "\n"
      ],
      "metadata": {
        "colab": {
          "base_uri": "https://localhost:8080/"
        },
        "id": "zVSWXXtF-um0",
        "outputId": "9cf79993-eec2-44a5-95fd-3ea60efae857"
      },
      "execution_count": 29,
      "outputs": [
        {
          "output_type": "stream",
          "name": "stdout",
          "text": [
            "{'apple': 1, 'banana': 2, 'cherry': 3}\n"
          ]
        }
      ]
    },
    {
      "cell_type": "code",
      "source": [
        "#Modifying Items\n",
        "#To modify the value associated with an existing key, simply assign a new value to that key.\n",
        "\n",
        "# Initial dictionary\n",
        "my_dict = {'apple': 1, 'banana': 2, 'cherry': 3}\n",
        "\n",
        "# Modifying an existing item\n",
        "my_dict['banana'] = 10\n",
        "\n",
        "print(my_dict)"
      ],
      "metadata": {
        "colab": {
          "base_uri": "https://localhost:8080/"
        },
        "id": "XwJhPDIt_0S2",
        "outputId": "c67068c1-6eaa-4038-811c-ba6a187d3d99"
      },
      "execution_count": 30,
      "outputs": [
        {
          "output_type": "stream",
          "name": "stdout",
          "text": [
            "{'apple': 1, 'banana': 10, 'cherry': 3}\n"
          ]
        }
      ]
    },
    {
      "cell_type": "code",
      "source": [
        "#Deleting Items\n",
        "#You can remove items from a dictionary using several methods:\n",
        "\n",
        "'''Using del Statement\n",
        "The del statement removes an item by its key. It also can delete the entire dictionary.'''\n",
        "\n",
        "# Initial dictionary\n",
        "my_dict = {'apple': 1, 'banana': 2, 'cherry': 3}\n",
        "\n",
        "# Deleting an item\n",
        "del my_dict['banana']\n",
        "\n",
        "print(my_dict)"
      ],
      "metadata": {
        "colab": {
          "base_uri": "https://localhost:8080/"
        },
        "id": "VRkeP57GAAf2",
        "outputId": "9b80918d-24ee-40bb-cc0a-9a863b76f81a"
      },
      "execution_count": 33,
      "outputs": [
        {
          "output_type": "stream",
          "name": "stdout",
          "text": [
            "{'apple': 1, 'cherry': 3}\n"
          ]
        }
      ]
    },
    {
      "cell_type": "code",
      "source": [
        "'''Using pop() Method\n",
        "The pop() method removes an item by its key and returns its value. If the key does not exist, it raises a KeyError.'''\n",
        "\n",
        "# Initial dictionary\n",
        "my_dict = {'apple': 1, 'banana': 2, 'cherry': 3}\n",
        "\n",
        "# Removing an item\n",
        "value = my_dict.pop('banana')\n",
        "\n",
        "print(value)\n",
        "print(my_dict)"
      ],
      "metadata": {
        "colab": {
          "base_uri": "https://localhost:8080/"
        },
        "id": "bDRE6wsjAVU8",
        "outputId": "9bfcd559-df64-480b-8ced-61fcf34639fe"
      },
      "execution_count": 34,
      "outputs": [
        {
          "output_type": "stream",
          "name": "stdout",
          "text": [
            "2\n",
            "{'apple': 1, 'cherry': 3}\n"
          ]
        }
      ]
    },
    {
      "cell_type": "code",
      "source": [],
      "metadata": {
        "id": "mk82xd0IA0i-"
      },
      "execution_count": null,
      "outputs": []
    }
  ]
}